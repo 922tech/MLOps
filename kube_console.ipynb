{
 "cells": [
  {
   "cell_type": "code",
   "execution_count": 2,
   "id": "ba0c7866-45e7-4a7c-bc5f-8955ecc56e58",
   "metadata": {},
   "outputs": [
    {
     "name": "stdout",
     "output_type": "stream",
     "text": [
      "Namespace 'test-namespace' already exists.\n",
      "Resource quota for 'test-namespace' created successfully.\n",
      "NAME                   STATUS   AGE\n",
      "default                Active   2d\n",
      "kube-node-lease        Active   2d\n",
      "kube-public            Active   2d\n",
      "kube-system            Active   2d\n",
      "kubernetes-dashboard   Active   39h\n",
      "test-namespace         Active   5m57s\n",
      "\n"
     ]
    }
   ],
   "source": [
    "from k8s_manager import KubernetesNamespaceManager\n",
    "import subprocess\n",
    "k = KubernetesNamespaceManager()\n",
    "manager = KubernetesNamespaceManager()\n",
    "\n",
    "# Create a namespace with the following resource limits\n",
    "namespace_name = \"test-namespace\"\n",
    "memory_limit = \"4Gi\"  # 4 GB\n",
    "cpu_limit = \"2\"       # 2 CPUs\n",
    "storage_limit = \"10Gi\"  # 10 GB of storage\n",
    "gpu_limit = None      # Optional, set to None if no GPU\n",
    "\n",
    "manager.create_namespace(namespace_name, memory_limit, cpu_limit, storage_limit, gpu_limit)\n",
    "o= subprocess.run('kubectl get namespaces'.split(), capture_output=True, text=True)\n",
    "print(o.stdout)"
   ]
  },
  {
   "cell_type": "code",
   "execution_count": 17,
   "id": "e62a179b-952e-4621-a5f0-b45f847af472",
   "metadata": {},
   "outputs": [],
   "source": [
    "wget https://github.com/nuclio/nuclio/releases/download/1.13.12/nuctl-1.13.12-linux-amd64\n",
    "sudo chmod +x nuctl--linux-amd64\n",
    "sudo ln -sf $(pwd)/nuctl-1.13.12-linux-amd64 /usr/local/bin/nuctl\n",
    "wget https://github.com/nuclio/nuclio/releases/download/1.13.12/nuctl-1.13.12-linux-amd64\n"
   ]
  }
 ],
 "metadata": {
  "kernelspec": {
   "display_name": "Python 3 (ipykernel)",
   "language": "python",
   "name": "python3"
  },
  "language_info": {
   "codemirror_mode": {
    "name": "ipython",
    "version": 3
   },
   "file_extension": ".py",
   "mimetype": "text/x-python",
   "name": "python",
   "nbconvert_exporter": "python",
   "pygments_lexer": "ipython3",
   "version": "3.10.12"
  }
 },
 "nbformat": 4,
 "nbformat_minor": 5
}
