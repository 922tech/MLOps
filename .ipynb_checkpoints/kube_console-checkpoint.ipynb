{
 "cells": [
  {
   "cell_type": "code",
   "execution_count": 4,
   "id": "ba0c7866-45e7-4a7c-bc5f-8955ecc56e58",
   "metadata": {},
   "outputs": [
    {
     "ename": "AttributeError",
     "evalue": "'CoreV1Api' object has no attribute 'list_'",
     "output_type": "error",
     "traceback": [
      "\u001b[0;31m---------------------------------------------------------------------------\u001b[0m",
      "\u001b[0;31mAttributeError\u001b[0m                            Traceback (most recent call last)",
      "Cell \u001b[0;32mIn[4], line 2\u001b[0m\n\u001b[1;32m      1\u001b[0m \u001b[38;5;28;01mfrom\u001b[39;00m \u001b[38;5;21;01mk8s_manager\u001b[39;00m \u001b[38;5;28;01mimport\u001b[39;00m KubernetesNamespaceManager\n\u001b[0;32m----> 2\u001b[0m k \u001b[38;5;241m=\u001b[39m \u001b[43mKubernetesNamespaceManager\u001b[49m\u001b[43m(\u001b[49m\u001b[43m)\u001b[49m\n\u001b[1;32m      3\u001b[0m k\u001b[38;5;241m.\u001b[39mcore_api\u001b[38;5;241m.\u001b[39mlist_node()\n",
      "File \u001b[0;32m~/projects/k8s/k8s_manager.py:15\u001b[0m, in \u001b[0;36mKubernetesNamespaceManager.__init__\u001b[0;34m(self, kube_config_path)\u001b[0m\n\u001b[1;32m     13\u001b[0m \u001b[38;5;28mself\u001b[39m\u001b[38;5;241m.\u001b[39mrbac_api \u001b[38;5;241m=\u001b[39m client\u001b[38;5;241m.\u001b[39mRbacAuthorizationV1Api()\n\u001b[1;32m     14\u001b[0m \u001b[38;5;28mself\u001b[39m\u001b[38;5;241m.\u001b[39mquota_api \u001b[38;5;241m=\u001b[39m client\u001b[38;5;241m.\u001b[39mCoreV1Api()\n\u001b[0;32m---> 15\u001b[0m \u001b[38;5;28;43mself\u001b[39;49m\u001b[38;5;241;43m.\u001b[39;49m\u001b[43mcore_api\u001b[49m\u001b[38;5;241;43m.\u001b[39;49m\u001b[43mlist_\u001b[49m\n",
      "\u001b[0;31mAttributeError\u001b[0m: 'CoreV1Api' object has no attribute 'list_'"
     ]
    }
   ],
   "source": [
    "from k8s_manager import KubernetesNamespaceManager\n",
    "k = KubernetesNamespaceManager()\n",
    "k.core_api.list_node()\n",
    "\n"
   ]
  }
 ],
 "metadata": {
  "kernelspec": {
   "display_name": "Python 3 (ipykernel)",
   "language": "python",
   "name": "python3"
  },
  "language_info": {
   "codemirror_mode": {
    "name": "ipython",
    "version": 3
   },
   "file_extension": ".py",
   "mimetype": "text/x-python",
   "name": "python",
   "nbconvert_exporter": "python",
   "pygments_lexer": "ipython3",
   "version": "3.10.12"
  }
 },
 "nbformat": 4,
 "nbformat_minor": 5
}
